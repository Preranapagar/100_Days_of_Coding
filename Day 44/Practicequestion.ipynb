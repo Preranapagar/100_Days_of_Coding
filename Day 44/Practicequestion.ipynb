{
 "cells": [
  {
   "cell_type": "markdown",
   "id": "d2261406",
   "metadata": {},
   "source": [
    "#### 1.Write a function that takes list of numbers and return sum"
   ]
  },
  {
   "cell_type": "code",
   "execution_count": 1,
   "id": "f7cce86b",
   "metadata": {},
   "outputs": [
    {
     "data": {
      "text/plain": [
       "65"
      ]
     },
     "execution_count": 1,
     "metadata": {},
     "output_type": "execute_result"
    }
   ],
   "source": [
    "def Sum_list(nums):\n",
    "    return sum(nums)\n",
    "\n",
    "list_1 = [2,3,4,56]\n",
    "Sum_list(list_1)"
   ]
  },
  {
   "cell_type": "markdown",
   "id": "b7e6e275",
   "metadata": {},
   "source": [
    "#### 2. Reverse a string in python"
   ]
  },
  {
   "cell_type": "code",
   "execution_count": 2,
   "id": "ef812ca8",
   "metadata": {},
   "outputs": [
    {
     "data": {
      "text/plain": [
       "'nohtyP'"
      ]
     },
     "execution_count": 2,
     "metadata": {},
     "output_type": "execute_result"
    }
   ],
   "source": [
    "def ReverseString(string):\n",
    "    return string[::-1]\n",
    "\n",
    "str1 = 'Python'\n",
    "ReverseString(str1)"
   ]
  },
  {
   "cell_type": "code",
   "execution_count": null,
   "id": "85a6f340",
   "metadata": {},
   "outputs": [],
   "source": [
    "#### 3."
   ]
  }
 ],
 "metadata": {
  "kernelspec": {
   "display_name": "Python 3 (ipykernel)",
   "language": "python",
   "name": "python3"
  },
  "language_info": {
   "codemirror_mode": {
    "name": "ipython",
    "version": 3
   },
   "file_extension": ".py",
   "mimetype": "text/x-python",
   "name": "python",
   "nbconvert_exporter": "python",
   "pygments_lexer": "ipython3",
   "version": "3.9.7"
  }
 },
 "nbformat": 4,
 "nbformat_minor": 5
}
