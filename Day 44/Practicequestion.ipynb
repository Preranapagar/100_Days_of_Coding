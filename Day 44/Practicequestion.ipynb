{
 "cells": [
  {
   "cell_type": "markdown",
   "id": "4a11f868",
   "metadata": {},
   "source": [
    "#### 1.Write a function that takes list of numbers and return sum"
   ]
  },
  {
   "cell_type": "code",
   "execution_count": 1,
   "id": "086b3895",
   "metadata": {},
   "outputs": [
    {
     "data": {
      "text/plain": [
       "65"
      ]
     },
     "execution_count": 1,
     "metadata": {},
     "output_type": "execute_result"
    }
   ],
   "source": [
    "def Sum_list(nums):\n",
    "    return sum(nums)\n",
    "\n",
    "list_1 = [2,3,4,56]\n",
    "Sum_list(list_1)"
   ]
  },
  {
   "cell_type": "markdown",
   "id": "cd08deec",
   "metadata": {},
   "source": [
    "#### 2. Reverse a string in python"
   ]
  },
  {
   "cell_type": "code",
   "execution_count": 2,
   "id": "a8e6ded3",
   "metadata": {},
   "outputs": [
    {
     "data": {
      "text/plain": [
       "'nohtyP'"
      ]
     },
     "execution_count": 2,
     "metadata": {},
     "output_type": "execute_result"
    }
   ],
   "source": [
    "def ReverseString(string):\n",
    "    return string[::-1]\n",
    "\n",
    "str1 = 'Python'\n",
    "ReverseString(str1)"
   ]
  },
  {
   "cell_type": "markdown",
   "id": "fb7453b0",
   "metadata": {},
   "source": [
    "#### 3. Write a function which checks if given word is palindrome"
   ]
  },
  {
   "cell_type": "code",
   "execution_count": 3,
   "id": "986b9959",
   "metadata": {},
   "outputs": [
    {
     "data": {
      "text/plain": [
       "True"
      ]
     },
     "execution_count": 3,
     "metadata": {},
     "output_type": "execute_result"
    }
   ],
   "source": [
    "def CheckPalindrome(word):\n",
    "    return word == word[::-1]\n",
    "\n",
    "str1 = 'ramar'\n",
    "CheckPalindrome(str1)"
   ]
  },
  {
   "cell_type": "code",
   "execution_count": null,
   "id": "a4eccb44",
   "metadata": {},
   "outputs": [],
   "source": []
  }
 ],
 "metadata": {
  "kernelspec": {
   "display_name": "Python 3 (ipykernel)",
   "language": "python",
   "name": "python3"
  },
  "language_info": {
   "codemirror_mode": {
    "name": "ipython",
    "version": 3
   },
   "file_extension": ".py",
   "mimetype": "text/x-python",
   "name": "python",
   "nbconvert_exporter": "python",
   "pygments_lexer": "ipython3",
   "version": "3.9.7"
  }
 },
 "nbformat": 4,
 "nbformat_minor": 5
}
